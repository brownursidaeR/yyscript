{
 "metadata": {
  "language_info": {
   "codemirror_mode": {
    "name": "ipython",
    "version": 3
   },
   "file_extension": ".py",
   "mimetype": "text/x-python",
   "name": "python",
   "nbconvert_exporter": "python",
   "pygments_lexer": "ipython3",
   "version": "3.7.3-final"
  },
  "orig_nbformat": 2,
  "kernelspec": {
   "name": "python3",
   "display_name": "Python 3",
   "language": "python"
  }
 },
 "nbformat": 4,
 "nbformat_minor": 2,
 "cells": [
  {
   "cell_type": "code",
   "execution_count": 1,
   "metadata": {},
   "outputs": [],
   "source": [
    "\n",
    "import cv2\n",
    "import numpy as np\n",
    "from matplotlib import pyplot as plt\n",
    "from PIL import Image, ImageGrab\n"
   ]
  },
  {
   "cell_type": "code",
   "execution_count": 28,
   "metadata": {},
   "outputs": [],
   "source": [
    "def pil2cv(image, transform=cv2.COLOR_BGR2GRAY):\n",
    "    ''' PIL型 -> OpenCV型\n",
    "    cv2.COLOR_BGR2GRAY 将BGR格式转换成灰度图片\n",
    "    cv2.COLOR_BGR2RGB 将BGR格式转换成RGB格式 '''\n",
    "    new_image = np.array(image, dtype=np.uint8)\n",
    "    if new_image.ndim == 2:\n",
    "        pass\n",
    "    elif new_image.shape[2] == 3:\n",
    "        new_image = cv2.cvtColor(new_image, transform)\n",
    "    elif new_image.shape[2] == 4:\n",
    "        new_image = cv2.cvtColor(new_image, transform)\n",
    "    return new_image\n",
    "\n",
    "def cv2pil(image, transform=cv2.COLOR_BGR2GRAY):\n",
    "    ''' OpenCV型 -> PIL型 \n",
    "    cv2.COLOR_BGR2GRAY 将BGR格式转换成灰度图片\n",
    "    cv2.COLOR_BGR2RGB 将BGR格式转换成RGB格式 '''\n",
    "    new_image = image.copy()\n",
    "    if new_image.ndim == 2:\n",
    "        pass\n",
    "    elif new_image.shape[2] == 3:\n",
    "        new_image = cv2.cvtColor(new_image, transform)\n",
    "    elif new_image.shape[2] == 4:\n",
    "        new_image = cv2.cvtColor(new_image, transform)\n",
    "    new_image = Image.fromarray(new_image)\n",
    "    return new_image"
   ]
  },
  {
   "cell_type": "code",
   "execution_count": 2,
   "metadata": {},
   "outputs": [],
   "source": [
    "IMAGE_TEMPLATE_ONE = 'template_one.jpg'\n",
    "IMAGE_TEMPLATE_MUL = 'template_mul.jpg'\n",
    "IMAGE_TEMPLATE_NONE = 'template_none.jpg'\n",
    "IMAGE_TARGET = 'target.jpg'\n",
    "\n"
   ]
  },
  {
   "cell_type": "code",
   "execution_count": 33,
   "metadata": {},
   "outputs": [
    {
     "output_type": "stream",
     "name": "stdout",
     "text": [
      "(307, 359) (355, 407)\n(143, 358) (191, 406)\n(328, 114) (376, 162)\n(89, 359) (137, 407)\n(235, 25) (283, 73)\n(267, 16) (315, 64)\n"
     ]
    }
   ],
   "source": [
    "# 查找图片A是否在图片B里面出现，A为模板，B为目标文件\n",
    "# template = cv2.imread(IMAGE_TEMPLATE_ONE, 0)  # 读出来是rbg类型\n",
    "template = cv2.imread(IMAGE_TEMPLATE_NONE, 0)  # 读出来是rbg类型\n",
    "target = cv2.imread(IMAGE_TARGET, 0)\n",
    "\n",
    "# cv2pil(template).show()\n",
    "# cv2pil(target).show()\n",
    "\n",
    "w, h = template.shape[::-1]\n",
    "# print(w, h)\n",
    "\n",
    "# 单匹配可以看到cv2.TM_CCORR的结果并不如预期那样好\n",
    "methods = ['cv2.TM_CCOEFF', 'cv2.TM_CCOEFF_NORMED', 'cv2.TM_CCORR',\n",
    "           'cv2.TM_CCORR_NORMED', 'cv2.TM_SQDIFF', 'cv2.TM_SQDIFF_NORMED']\n",
    "for meth in methods:\n",
    "    img = target.copy()\n",
    "    method = eval(meth)\n",
    "\n",
    "    # 应用模板匹配\n",
    "    res = cv2.matchTemplate(img, template, method)\n",
    "    min_val, max_val, min_loc, max_loc = cv2.minMaxLoc(res)\n",
    "\n",
    "    # 如果方法是cv2.TM_SQDIFF或cv2.TM_SQDIFF_NORMED\n",
    "    if method in [cv2.TM_SQDIFF, cv2.TM_SQDIFF_NORMED]:\n",
    "        top_left = min_loc\n",
    "    else:\n",
    "        top_left = max_loc\n",
    "    \n",
    "    bottom_right = (top_left[0] + w, top_left[1] + h)\n",
    "    print(top_left, bottom_right)\n",
    "    # cv2.rectangle(img, top_left, bottom_right, 255, 2)\n",
    "    # plt.subplot(121), plt.imshow(res, 'gray')\n",
    "    # plt.title('Matching Result'), plt.xticks([]), plt.yticks([])\n",
    "    # plt.subplot(122), plt.imshow(img, 'gray')\n",
    "    # plt.title('Detected Point'), plt.xticks([]), plt.yticks([])\n",
    "    # plt.suptitle(meth)\n",
    "    # plt.show()\n"
   ]
  },
  {
   "cell_type": "code",
   "execution_count": 3,
   "metadata": {},
   "outputs": [
    {
     "output_type": "stream",
     "name": "stdout",
     "text": [
      "<class 'tuple'> 2\n<class 'numpy.ndarray'> 3\n(array([175, 175, 175], dtype=int64), array([133, 218, 303], dtype=int64))\n[175 175 175] [133 218 303]\n(175, 133) (190, 152)\n(175, 218) (190, 237)\n(175, 303) (190, 322)\n"
     ]
    }
   ],
   "source": [
    "template = cv2.imread(IMAGE_TEMPLATE_MUL, 0)  # numpy.ndarray\n",
    "# template = cv2.imread(IMAGE_TEMPLATE_NONE, 0)\n",
    "# template = cv2.imread(IMAGE_TEMPLATE_ONE, 0)\n",
    "# target_rgb = cv2.imread('all.jpg', 0)  # 可能报错 Invalid number of channels in input image\n",
    "target_rgb = cv2.imread(IMAGE_TARGET)\n",
    "target_rgb_gray = cv2.cvtColor(target_rgb, cv2.COLOR_BGR2GRAY)\n",
    "\n",
    "w, h = template.shape[::-1]\n",
    "\n",
    "res = cv2.matchTemplate(target_rgb_gray, template, cv2.TM_CCOEFF_NORMED)\n",
    "threshold = 0.8\n",
    "loc = np.where(res >= threshold)\n",
    "print(type(loc), len(loc))\n",
    "print(type(loc[0]), len(loc[0]))\n",
    "print(loc[::-1])\n",
    "print(*loc[::-1]) # *作用是将列表解开成两个独立的参数\n",
    "for pt in zip(*loc[::-1]):  # zip(*loc[::-1]) 等价于 zip(loc[1], loc[0])\n",
    "    print(pt, (pt[0] + w, pt[1] + h))\n",
    "    cv2.rectangle(target_rgb, pt, (pt[0] + w, pt[1] + h), (0, 0, 255), 2)\n",
    " \n",
    "# cv2.imwrite('res.jpg', target_rgb)\n",
    "# test = cv2.imread(IMAGE_TARGET)\n",
    "# cv2.imshow('original', test)\n",
    "# cv2.imshow('res', target_rgb)\n",
    "# cv2.waitKey(0) & 0xFF\n",
    "# cv2.destroyAllWindows()\n"
   ]
  },
  {
   "cell_type": "code",
   "execution_count": 5,
   "metadata": {},
   "outputs": [],
   "source": [
    "def show_cv2_image(img):\n",
    "    cv2.imshow('original', img)\n",
    "    cv2.waitKey(0) & 0xFF\n",
    "    cv2.destroyAllWindows()\n",
    "\n",
    "show_cv2_image(target_rgb)\n",
    "\n"
   ]
  },
  {
   "cell_type": "code",
   "execution_count": 38,
   "metadata": {},
   "outputs": [
    {
     "output_type": "stream",
     "name": "stdout",
     "text": [
      "[3, 2, 1]\n[1, 2, 3]  1 2 3\n[('a1', 'a2'), ('b1', 'b2'), ('c1', 'c2')]  ('a1', 'a2') ('b1', 'b2') ('c1', 'c2')\n[('a1', 'a2'), ('b1', 'b2'), ('c1', 'c2')]  ('a1', 'a2') ('b1', 'b2') ('c1', 'c2')\n{'1': 'a', '2': 'b', '3': 'c'} ==== 1 2 3\n"
     ]
    }
   ],
   "source": [
    "\n",
    "# *作用是将列表解开成两个独立的参数，传入函数，还有类似的有两个星号，是将字典解开成独立的元素作为形参\n",
    "a = [1, 2, 3]\n",
    "print(a[::-1])\n",
    "\n",
    "a=[1,2,3]\n",
    "b=[('a1', 'a2'), ('b1', 'b2'), ('c1', 'c2')]\n",
    "c={'1':'a','2':'b','3':'c'}\n",
    "print(a,\"\",*a)\n",
    "print(b,\"\",*b)\n",
    "print(b,\"\",*b)\n",
    "print(c,\"====\",*c)"
   ]
  },
  {
   "cell_type": "code",
   "execution_count": 26,
   "metadata": {},
   "outputs": [
    {
     "output_type": "stream",
     "name": "stdout",
     "text": [
      "(418, 688, 3)\n(418, 688, 3)\n"
     ]
    }
   ],
   "source": [
    "# imread函数有两个参数，第一个参数是图片路径，第二个参数表示读取图片的形式，有三种：\n",
    "# cv2.IMREAD_COLOR：加载彩色图片，这个是默认参数，可以直接写1。\n",
    "# cv2.IMREAD_GRAYSCALE：以灰度模式加载图片，可以直接写0。\n",
    "# cv2.IMREAD_UNCHANGED：包括alpha，可以直接写-1\n",
    "\n",
    "template = cv2.imread(IMAGE_TARGET)   # \n",
    "print(template.shape)\n",
    "template = pil2cv(Image.open(IMAGE_TARGET))\n",
    "print(template.shape)\n",
    "\n"
   ]
  },
  {
   "cell_type": "code",
   "execution_count": 31,
   "metadata": {},
   "outputs": [
    {
     "output_type": "stream",
     "name": "stdout",
     "text": [
      "(20, 19) (418, 688)\n",
      "(153, 303, 688, 418)\n",
      "Box(left=153, top=303, width=19, height=20)\n",
      "(153, 303, 688, 418)\n",
      "Box(left=153, top=303, width=19, height=20)\n",
      "(153, 303, 688, 418)\n",
      "Box(left=153, top=303, width=19, height=20)\n",
      "(153, 303, 688, 418)\n",
      "Box(left=153, top=303, width=19, height=20)\n",
      "(153, 303, 688, 418)\n",
      "Box(left=153, top=303, width=19, height=20)\n",
      "[0.01199197769165039, 0.011992692947387695, 0.011992454528808594, 0.013991355895996094, 0.01299142837524414]\n",
      "[0.03598213195800781, 0.029982805252075195, 0.030983448028564453, 0.028983592987060547, 0.0359807014465332]\n"
     ]
    }
   ],
   "source": [
    "# 比较两个库的性能差别\n",
    "import pyautogui\n",
    "import time\n",
    "\n",
    "# template = cv2.imread(IMAGE_TEMPLATE_MUL, 0)  # numpy.ndarray\n",
    "# template = cv2.imread(IMAGE_TEMPLATE_ONE, 0)\n",
    "# target_rgb = cv2.imread(IMAGE_TARGET)\n",
    "# target_rgb_gray = cv2.cvtColor(target_rgb, cv2.COLOR_BGR2GRAY)\n",
    "img_template = Image.open(IMAGE_TEMPLATE_ONE)\n",
    "img_target = Image.open(IMAGE_TARGET)\n",
    "template = pil2cv(img_template)\n",
    "target_rgb_gray = pil2cv(img_target)\n",
    "img_template = cv2pil(template)\n",
    "img_target = cv2pil(target_rgb_gray)\n",
    "\n",
    "print(template.shape, target_rgb_gray.shape)\n",
    "\n",
    "def locate_im_by_cv2(template, target_rgb_gray):\n",
    "    h, w = target_rgb_gray.shape[0], target_rgb_gray.shape[1]\n",
    "    res = cv2.matchTemplate(target_rgb_gray, template, cv2.TM_CCOEFF_NORMED)\n",
    "    threshold = 0.8\n",
    "    loc = np.where(res >= threshold)\n",
    "    for pt in zip(*loc[::-1]):  # zip(*loc[::-1]) 等价于 zip(loc[1], loc[0])\n",
    "        # print(pt, (pt[0] + w, pt[1] + h))\n",
    "        cv2.rectangle(target_rgb, pt, (pt[0] + w, pt[1] + h), (0, 0, 255), 2)\n",
    "        return (pt[0], pt[1], w, h)\n",
    "\n",
    "\n",
    "def locate_im_exact(template, target):\n",
    "    '''通过坐标来获取截图并查看图片是否存在'''\n",
    "    try:\n",
    "        loc = pyautogui.locate(template, target, confidence=0.8)\n",
    "        return loc\n",
    "    except Exception as error:\n",
    "        self.display_msg('截图比对失败：' + str(error))\n",
    "        return None\n",
    "\n",
    "time1 = []\n",
    "time2 = []\n",
    "for i in range(5):\n",
    "    start = time.time()\n",
    "    print(locate_im_by_cv2(template, target_rgb_gray))\n",
    "    end = time.time()\n",
    "    time1.append(end - start)\n",
    "\n",
    "    start = time.time()\n",
    "    print(locate_im_exact(img_template, img_target))\n",
    "    end = time.time()\n",
    "    time2.append(end - start)\n",
    "print(time1)\n",
    "print(time2)\n"
   ]
  },
  {
   "cell_type": "code",
   "execution_count": null,
   "metadata": {},
   "outputs": [],
   "source": []
  }
 ]
}