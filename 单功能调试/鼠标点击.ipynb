{
 "metadata": {
  "language_info": {
   "codemirror_mode": {
    "name": "ipython",
    "version": 3
   },
   "file_extension": ".py",
   "mimetype": "text/x-python",
   "name": "python",
   "nbconvert_exporter": "python",
   "pygments_lexer": "ipython3",
   "version": 3
  },
  "orig_nbformat": 2
 },
 "nbformat": 4,
 "nbformat_minor": 2,
 "cells": [
  {
   "cell_type": "code",
   "execution_count": null,
   "metadata": {},
   "outputs": [],
   "source": [
    "import autopy\n",
    "import time\n",
    "time.sleep(5)\n",
    "\n",
    "# 获取当前位置\n",
    "x, y = autopy.mouse.location()\n",
    "print('获取到当前位置：', x, y)\n",
    "\n",
    "# 拖动\n",
    "# toggle(), 在当前位置按下或者释放鼠标按键.Button可以是LEFT,RIGHT,MIDDLE或者None,如果是None默认是左键.\n",
    "autopy.mouse.move(100, 100)\n",
    "autopy.mouse.toggle(autopy.mouse.Button.LEFT, True)\n",
    "autopy.mouse.smooth_move(800, 800)\n",
    "autopy.mouse.toggle(autopy.mouse.Button.LEFT, False)\n",
    "\n",
    "# 点击\n",
    "autopy.mouse.move(800, 800)\n",
    "autopy.mouse.click(delay=0.1) # 对toggle的封装,会按下并自动释放\n"
   ]
  }
 ]
}