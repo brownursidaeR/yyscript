{
 "metadata": {
  "language_info": {
   "codemirror_mode": {
    "name": "ipython",
    "version": 3
   },
   "file_extension": ".py",
   "mimetype": "text/x-python",
   "name": "python",
   "nbconvert_exporter": "python",
   "pygments_lexer": "ipython3",
   "version": "3.7.3"
  },
  "orig_nbformat": 2,
  "kernelspec": {
   "name": "python37364bitd3eeb2ea2edc4c2aa3ef7843f62515b2",
   "display_name": "Python 3.7.3 64-bit"
  },
  "metadata": {
   "interpreter": {
    "hash": "3fa9f9533ac64a5e5970f2a44c9550e187ccb98b527393eddab737e4936e23a7"
   }
  }
 },
 "nbformat": 4,
 "nbformat_minor": 2,
 "cells": [
  {
   "cell_type": "code",
   "execution_count": 1,
   "metadata": {},
   "outputs": [
    {
     "output_type": "stream",
     "name": "stdout",
     "text": [
      "Win32Window 阴阳师-网易游戏\n"
     ]
    }
   ],
   "source": [
    "import win32gui\n",
    "import win32con\n",
    "\n",
    "'''\n",
    "    查看窗体和窗体名称\n",
    "'''\n",
    "# win_name = 'MuMu模拟器'\n",
    "win_name = '阴阳师-网易游戏'\n",
    "# win_name = '王者荣耀 - MuMu模拟器'\n",
    "def print_window(hwnd, extra):\n",
    "    if win_name in win32gui.GetWindowText(hwnd):\n",
    "        print(win32gui.GetClassName(hwnd), win32gui.GetWindowText(hwnd))\n",
    "\n",
    "win32gui.EnumWindows(print_window, None)\n"
   ]
  },
  {
   "cell_type": "code",
   "execution_count": 1,
   "metadata": {},
   "outputs": [
    {
     "output_type": "stream",
     "name": "stdout",
     "text": [
      "1920 1080\n"
     ]
    }
   ],
   "source": [
    "# 获取屏幕分辨率\n",
    "from win32api import GetSystemMetrics\n",
    "width, height = GetSystemMetrics (0),GetSystemMetrics (1)\n",
    "print(width, height)\n"
   ]
  },
  {
   "cell_type": "code",
   "execution_count": 2,
   "metadata": {},
   "outputs": [
    {
     "output_type": "stream",
     "name": "stdout",
     "text": [
      "3737614 221 50 1152 679\n"
     ]
    }
   ],
   "source": [
    "'''\n",
    "    查看窗体大小\n",
    "'''\n",
    "# win_name = '王者荣耀 - MuMu模拟器'\n",
    "win_name = '阴阳师-网易游戏'\n",
    "handler = win32gui.FindWindow(0, win_name)\n",
    "x_top, y_top, x_bottom, y_bottom = win32gui.GetWindowRect(handler)\n",
    "width, height = x_bottom - x_top, y_bottom - y_top\n",
    "print(handler, x_top, y_top, width, height)  # 453 308 936 584\n"
   ]
  },
  {
   "cell_type": "code",
   "execution_count": 20,
   "metadata": {},
   "outputs": [
    {
     "output_type": "stream",
     "name": "stdout",
     "text": [
      "197982 453 308 936 584\n"
     ]
    }
   ],
   "source": [
    "# 用 SetWindowPos 不生效，对腾讯手游助手不生效\n",
    "win32gui.SetWindowPos(handler, win32con.HWND_NOTOPMOST, x_top, y_top, 1152, 679, win32con.SWP_SHOWWINDOW)\n",
    "\n",
    "handler = win32gui.FindWindow(0, win_name)\n",
    "x_top, y_top, x_bottom, y_bottom = win32gui.GetWindowRect(handler)\n",
    "width, height = x_bottom - x_top, y_bottom - y_top\n",
    "print(handler, x_top, y_top, width, height)\n"
   ]
  },
  {
   "cell_type": "code",
   "execution_count": 21,
   "metadata": {},
   "outputs": [
    {
     "output_type": "stream",
     "name": "stdout",
     "text": [
      "197982 453 308 936 584\n"
     ]
    }
   ],
   "source": [
    "# 尝试用 MoveWindow, 也没有效果\n",
    "ret = win32gui.MoveWindow(handler, 200, 100, 1152, 679, True)\n",
    "\n",
    "handler = win32gui.FindWindow(0, win_name)\n",
    "x_top, y_top, x_bottom, y_bottom = win32gui.GetWindowRect(handler)\n",
    "width, height = x_bottom - x_top, y_bottom - y_top   # 453 308 936 584\n",
    "print(handler, x_top, y_top, width, height)\n"
   ]
  },
  {
   "cell_type": "code",
   "execution_count": 8,
   "metadata": {},
   "outputs": [],
   "source": [
    "class Location:\n",
    "    def __init__(self, handler, x_top, y_top, x_bottom, y_bottom):\n",
    "        self.handler = handler\n",
    "        self.update_handler(x_top, y_top, x_bottom, y_bottom)\n",
    "\n",
    "    def print_location(self):\n",
    "        msg = 'handler:{0}, ({1},{2}) -> ({3},{4}), width:{5}, height{6}'.format(self.handler, self.x_top, self.y_top, self.x_bottom, self.y_bottom, self.width, self.height)\n",
    "        print(msg)\n",
    "    \n",
    "    def update_handler(self, x_top, y_top, x_bottom, y_bottom):\n",
    "        self.x_top = x_top\n",
    "        self.y_top = y_top\n",
    "        self.x_bottom = x_bottom\n",
    "        self.y_bottom = y_bottom\n",
    "        self.width = x_bottom - x_top\n",
    "        self.height = y_bottom - y_top\n",
    "\n",
    "# from functools import map\n",
    "def get_all_windows(win_name):\n",
    "    handlers = []\n",
    "    def print_window(hwnd, extra):\n",
    "        if win_name in win32gui.GetWindowText(hwnd):\n",
    "            loc = win32gui.GetWindowRect(hwnd)\n",
    "            handler_loc = Location(hwnd, loc[0], loc[1], loc[2], loc[3])\n",
    "            handlers.append(handler_loc)\n",
    "            print(hwnd, win32gui.GetClassName(hwnd), win32gui.GetWindowText(hwnd))\n",
    "            handler_loc.print_location()\n",
    "    win32gui.EnumWindows(print_window, None)\n",
    "    return handlers\n",
    "\n",
    "\n",
    "win_name='阴阳师-网易游戏'\n",
    "handlers = get_all_windows(win_name)\n",
    "# sort_by_x = lambda x,y: True if x[0] > y[0] else False\n",
    "# locs_tmp = map(lambda x: win32gui.GetWindowRect(handler), handlers)\n",
    "# locs = sorted(locs_tmp, key=lambda x:x[0])\n",
    "# print(handlers, locs)\n"
   ]
  },
  {
   "cell_type": "code",
   "execution_count": null,
   "metadata": {},
   "outputs": [],
   "source": []
  }
 ]
}