{
 "metadata": {
  "language_info": {
   "codemirror_mode": {
    "name": "ipython",
    "version": 3
   },
   "file_extension": ".py",
   "mimetype": "text/x-python",
   "name": "python",
   "nbconvert_exporter": "python",
   "pygments_lexer": "ipython3",
   "version": "3.7.3-final"
  },
  "orig_nbformat": 2,
  "kernelspec": {
   "name": "python37364bitd3eeb2ea2edc4c2aa3ef7843f62515b2",
   "display_name": "Python 3.7.3 64-bit",
   "language": "python"
  }
 },
 "nbformat": 4,
 "nbformat_minor": 2,
 "cells": [
  {
   "cell_type": "code",
   "execution_count": 1,
   "source": [
    "# %% 通过接口获取主板信息\r\n",
    "# wmic csproduct get uuid  4C4C4544-0039-4C10-8059-C4C04F393332\r\n",
    "# pip install --upgrade iupdatable\r\n",
    "'''\r\n",
    "加密算法说明：\r\n",
    "    1. 先获取到机器主板的uuid信息\r\n",
    "    2. 获取到指定的过期时间\r\n",
    "    3. 将uuid + 关键字做md5计算，得到md5校验串\r\n",
    "    4. 将md5串和时间做为原始的串，做base64加密，得到加密串\r\n",
    "\r\n",
    "解密校验过程：\r\n",
    "    1. 获取加密串\r\n",
    "    2. base64解密得到 md5串 + 时间戳\r\n",
    "    3. 获取 uuid + 关键字，并做md5计算得到对比串，对比串和md5串做比较\r\n",
    "        如果串不匹配，再用通用的uuid串做比较，也不匹配，鉴权失败\r\n",
    "    4. 用当前时间和时间戳比对\r\n",
    "        当前时间大于时间戳，表示过期，鉴权失败\r\n",
    "        当前时间小于时间戳，表示还有效，鉴权成功\r\n",
    "'''\r\n",
    "\r\n",
    "# %% 获取全部信息\r\n",
    "from iupdatable.system.hardware import CSProduct\r\n",
    "cs_product = CSProduct.get()\r\n",
    "print(\"CSProduct: \" + str(cs_product))  # 一次性获取所有的CSProduct信息\r\n",
    "print(cs_product[\"UUID\"])"
   ],
   "outputs": [
    {
     "output_type": "stream",
     "name": "stdout",
     "text": [
      "CSProduct: {'Caption': '计算机系统产品', 'Description': '计算机系统产品', 'IdentifyingNumber': 'Not Applicable                  ', 'Name': 'CW65S', 'SKUNumber': '', 'UUID': '2E5BFA80-0C3F-0000-0000-000000000000', 'Vendor': 'Hasee Computer', 'Version': 'Not Applicable'}\n",
      "2E5BFA80-0C3F-0000-0000-000000000000\n"
     ]
    }
   ],
   "metadata": {}
  },
  {
   "cell_type": "code",
   "execution_count": 2,
   "source": [
    "# %% 使用各项函数单独获取\r\n",
    "print(\"UUID: \" + CSProduct.get_uuid())\r\n",
    "print(\"Caption: \" + CSProduct.get_caption())\r\n",
    "print(\"Description: \" + CSProduct.get_description())\r\n",
    "print(\"IdentifyingNumber: \" + CSProduct.get_identifying_number())\r\n",
    "print(\"Name: \" + CSProduct.get_name())\r\n",
    "print(\"SKUNumber: \" + CSProduct.get_sku_number())\r\n",
    "print(\"Vendor: \" + CSProduct.get_vendor())\r\n",
    "print(\"Version: \" + CSProduct.get_version())"
   ],
   "outputs": [
    {
     "output_type": "stream",
     "name": "stdout",
     "text": [
      "UUID: 2E5BFA80-0C3F-0000-0000-000000000000\n",
      "Caption: 计算机系统产品\n",
      "Description: 计算机系统产品\n",
      "IdentifyingNumber: Not Applicable                  \n",
      "Name: CW65S\n",
      "SKUNumber: \n",
      "Vendor: Hasee Computer\n",
      "Version: Not Applicable\n"
     ]
    }
   ],
   "metadata": {}
  },
  {
   "cell_type": "code",
   "execution_count": 5,
   "source": [
    "# %% 封装具体时间转时间戳\r\n",
    "import time\r\n",
    "def transform_date_to_timestamp(year, month, day):\r\n",
    "    time_str = '{0}-{1}-{2}'.format(year, month, day)\r\n",
    "    data_sj = time.strptime(time_str,\"%Y-%m-%d\")\r\n",
    "    return int(time.mktime(data_sj))\r\n",
    "cur_timestamp = int(time.time())\r\n",
    "end_timestamp = transform_date_to_timestamp(2021, 1, 30)\r\n",
    "print(cur_timestamp, end_timestamp)"
   ],
   "outputs": [
    {
     "output_type": "stream",
     "name": "stdout",
     "text": [
      "1609425406 1611936000\n"
     ]
    }
   ],
   "metadata": {}
  },
  {
   "cell_type": "code",
   "execution_count": 3,
   "source": [
    "# %% 获取UUID封装成函数\r\n",
    "def get_machine_uuid():\r\n",
    "    return CSProduct.get()[\"UUID\"][-12::]\r\n",
    "print(get_machine_uuid())\r\n"
   ],
   "outputs": [
    {
     "output_type": "stream",
     "name": "stdout",
     "text": [
      "000000000000\n"
     ]
    }
   ],
   "metadata": {}
  },
  {
   "cell_type": "code",
   "execution_count": 7,
   "source": [
    "# %% 封装获取md5算法的函数\r\n",
    "import hashlib\r\n",
    "\r\n",
    "def get_md5(orig_str):\r\n",
    "    m = hashlib.md5()\r\n",
    "    m.update(orig_str.encode('utf-8'))\r\n",
    "    return m.hexdigest()\r\n",
    "print(orig_str, get_md5(orig_str))"
   ],
   "outputs": [
    {
     "output_type": "stream",
     "name": "stdout",
     "text": [
      "000000000000-1611936000 ad8e380372933368a1292262609a0b8d\n"
     ]
    }
   ],
   "metadata": {}
  },
  {
   "cell_type": "code",
   "execution_count": 6,
   "source": [
    "# %% base64加密\r\n",
    "orig_str = '{0}-{1}'.format(get_machine_uuid(), transform_date_to_timestamp(2021, 1, 30))\r\n",
    "print(orig_str)\r\n",
    "\r\n",
    "import base64\r\n",
    "encoded_str = base64.b64encode(orig_str.encode('utf-8')).decode()\r\n",
    "decode_str = base64.b64decode(encoded_str.encode('utf-8')).decode()\r\n",
    "print(orig_str, encoded_str, decode_str)"
   ],
   "outputs": [
    {
     "output_type": "stream",
     "name": "stdout",
     "text": [
      "000000000000-1611936000\n",
      "000000000000-1611936000 MDAwMDAwMDAwMDAwLTE2MTE5MzYwMDA= 000000000000-1611936000\n"
     ]
    }
   ],
   "metadata": {}
  },
  {
   "cell_type": "code",
   "execution_count": 8,
   "source": [
    "# %% 封装生成加密串的函数和解密串的函数\r\n",
    "def get_licence(uuid, year, month, day):\r\n",
    "    # 先获取时间戳\r\n",
    "    timestamp = transform_date_to_timestamp(year, month, day)\r\n",
    "\r\n",
    "    # 获取md5\r\n",
    "    md5 = get_md5(uuid + 'kiddo')\r\n",
    "    orig_str = '{0}_{1}'.format(md5, timestamp)\r\n",
    "\r\n",
    "    # 获取base64编码\r\n",
    "    encode_str = base64.b64encode(orig_str.encode('utf-8')).decode()\r\n",
    "    print('加密用的关键信息：', timestamp, orig_str, encoded_str)\r\n",
    "    return encode_str\r\n",
    "\r\n",
    "def check_license(encode_str):\r\n",
    "    # decode_str = base64.b64decode(encode_str.encode('utf-8')).decode()\r\n",
    "    # print('解密串是：', decode_str)\r\n",
    "    # elements = decode_str.split('_')\r\n",
    "    # if len(elements) != 2:\r\n",
    "    #     return False\r\n",
    "    # md5, timestamp = elements[0], int(elements[1])\r\n",
    "    # print('从licence中获取到的信息：md5={0}, time={1}'.format(md5, timestamp))\r\n",
    "    # # 获取uuid，并根据关键字计算出md5\r\n",
    "    # local_md5 = get_md5(get_machine_uuid() + 'kiddo')\r\n",
    "    # if md5 != local_md5:\r\n",
    "    #     print('md5，{0} != {1}'.format(md5, local_md5))\r\n",
    "    #     local_md5 = get_md5('AB0123456789' + 'kiddo')\r\n",
    "    #     if md5 != local_md5:\r\n",
    "    #         return False\r\n",
    "    #     print('匹配上了通用的uuid，{0}'.format(md5))\r\n",
    "\r\n",
    "    # # 检查时间戳\r\n",
    "    # local_timestamp = int(time.time())\r\n",
    "    # if local_timestamp > timestamp:\r\n",
    "    #     print('timestamp，{0} < {1}'.format(timestamp, local_timestamp))\r\n",
    "    #     return False\r\n",
    "    # print(encode_str + '鉴权成功')\r\n",
    "    return True\r\n",
    "\r\n"
   ],
   "outputs": [],
   "metadata": {}
  },
  {
   "cell_type": "code",
   "execution_count": 9,
   "source": [
    "licence = get_licence(get_machine_uuid(), 2021, 1, 30)\r\n",
    "print('检查的licence: ', licence, check_license(licence))  # 成功\r\n",
    "\r\n",
    "licence = get_licence(get_machine_uuid(), 2020, 1, 30)\r\n",
    "print('检查的licence: ', licence, check_license(licence))\r\n",
    "\r\n",
    "licence = get_licence('AB0123456789', 2021, 1, 30)\r\n",
    "print('检查的licence: ', licence, check_license(licence))  # 成功\r\n",
    "\r\n",
    "licence = get_licence('error_uuid', 2021, 1, 30)\r\n",
    "print('检查的licence: ', licence, check_license(licence))\r\n",
    "\r\n",
    "licence = get_licence('AB0123456789', 2020, 1, 30)\r\n",
    "print('检查的licence: ', licence, check_license(licence))"
   ],
   "outputs": [
    {
     "output_type": "stream",
     "name": "stdout",
     "text": [
      "加密用的关键信息： 1611936000 33b0e1a23e2f6fb868d8e39f6b957830_1611936000 MDAwMDAwMDAwMDAwLTE2MTE5MzYwMDA=\n",
      "解密串是： 33b0e1a23e2f6fb868d8e39f6b957830_1611936000\n",
      "从licence中获取到的信息：md5=33b0e1a23e2f6fb868d8e39f6b957830, time=1611936000\n",
      "MzNiMGUxYTIzZTJmNmZiODY4ZDhlMzlmNmI5NTc4MzBfMTYxMTkzNjAwMA==鉴权成功\n",
      "检查的licence:  MzNiMGUxYTIzZTJmNmZiODY4ZDhlMzlmNmI5NTc4MzBfMTYxMTkzNjAwMA== True\n",
      "加密用的关键信息： 1580313600 33b0e1a23e2f6fb868d8e39f6b957830_1580313600 MDAwMDAwMDAwMDAwLTE2MTE5MzYwMDA=\n",
      "解密串是： 33b0e1a23e2f6fb868d8e39f6b957830_1580313600\n",
      "从licence中获取到的信息：md5=33b0e1a23e2f6fb868d8e39f6b957830, time=1580313600\n",
      "timestamp，1580313600 < 1609425684\n",
      "检查的licence:  MzNiMGUxYTIzZTJmNmZiODY4ZDhlMzlmNmI5NTc4MzBfMTU4MDMxMzYwMA== False\n",
      "加密用的关键信息： 1611936000 9d7ae2fba1d199d03d00c220856896f3_1611936000 MDAwMDAwMDAwMDAwLTE2MTE5MzYwMDA=\n",
      "解密串是： 9d7ae2fba1d199d03d00c220856896f3_1611936000\n",
      "从licence中获取到的信息：md5=9d7ae2fba1d199d03d00c220856896f3, time=1611936000\n",
      "md5，9d7ae2fba1d199d03d00c220856896f3 != 33b0e1a23e2f6fb868d8e39f6b957830\n",
      "匹配上了通用的uuid，9d7ae2fba1d199d03d00c220856896f3\n",
      "OWQ3YWUyZmJhMWQxOTlkMDNkMDBjMjIwODU2ODk2ZjNfMTYxMTkzNjAwMA==鉴权成功\n",
      "检查的licence:  OWQ3YWUyZmJhMWQxOTlkMDNkMDBjMjIwODU2ODk2ZjNfMTYxMTkzNjAwMA== True\n",
      "加密用的关键信息： 1611936000 9c114913069dd3860e2152d58037d2ef_1611936000 MDAwMDAwMDAwMDAwLTE2MTE5MzYwMDA=\n",
      "解密串是： 9c114913069dd3860e2152d58037d2ef_1611936000\n",
      "从licence中获取到的信息：md5=9c114913069dd3860e2152d58037d2ef, time=1611936000\n",
      "md5，9c114913069dd3860e2152d58037d2ef != 33b0e1a23e2f6fb868d8e39f6b957830\n",
      "检查的licence:  OWMxMTQ5MTMwNjlkZDM4NjBlMjE1MmQ1ODAzN2QyZWZfMTYxMTkzNjAwMA== False\n",
      "加密用的关键信息： 1580313600 9d7ae2fba1d199d03d00c220856896f3_1580313600 MDAwMDAwMDAwMDAwLTE2MTE5MzYwMDA=\n",
      "解密串是： 9d7ae2fba1d199d03d00c220856896f3_1580313600\n",
      "从licence中获取到的信息：md5=9d7ae2fba1d199d03d00c220856896f3, time=1580313600\n",
      "md5，9d7ae2fba1d199d03d00c220856896f3 != 33b0e1a23e2f6fb868d8e39f6b957830\n",
      "匹配上了通用的uuid，9d7ae2fba1d199d03d00c220856896f3\n",
      "timestamp，1580313600 < 1609425685\n",
      "检查的licence:  OWQ3YWUyZmJhMWQxOTlkMDNkMDBjMjIwODU2ODk2ZjNfMTU4MDMxMzYwMA== False\n"
     ]
    }
   ],
   "metadata": {}
  },
  {
   "cell_type": "code",
   "execution_count": null,
   "source": [],
   "outputs": [],
   "metadata": {}
  }
 ]
}